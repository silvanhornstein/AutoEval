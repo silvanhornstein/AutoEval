{
  "nbformat": 4,
  "nbformat_minor": 0,
  "metadata": {
    "colab": {
      "provenance": []
    },
    "kernelspec": {
      "name": "python3",
      "display_name": "Python 3"
    },
    "language_info": {
      "name": "python"
    }
  },
  "cells": [
    {
      "cell_type": "code",
      "source": [
        "import pandas as pd\n",
        "\n",
        "\n",
        "results_xgb = pd.read_csv(\"/content/finalresults_xgb\")\n",
        "results_longformer = pd.read_csv(\"/content/finalresults_longformer\")"
      ],
      "metadata": {
        "id": "fhWH3_4qEwU-"
      },
      "execution_count": null,
      "outputs": []
    },
    {
      "cell_type": "code",
      "source": [
        "import matplotlib.pyplot as plt\n",
        "from sklearn.datasets import make_classification\n",
        "from sklearn.metrics import confusion_matrix, ConfusionMatrixDisplay\n",
        "from sklearn.model_selection import train_test_split\n",
        "from sklearn.svm import SVC\n",
        "\n",
        "threshold = 0.6\n",
        "predicted_classes = (results_xgb.prediction >= threshold).astype(int)\n",
        "\n",
        "#Plot the confusion matrix\n",
        "\n",
        "cm = confusion_matrix(results_xgb[\"outcome\"], predicted_classes)\n",
        "class_labels = [\"Unhelpful\", \"Helpful\"]\n",
        "\n",
        "disp = ConfusionMatrixDisplay(confusion_matrix=cm, display_labels=class_labels)\n",
        "disp.plot(cmap=plt.cm.Blues,  colorbar=False)\n",
        "plt.show()\n"
      ],
      "metadata": {
        "id": "YNhHginMFdCX"
      },
      "execution_count": null,
      "outputs": []
    },
    {
      "cell_type": "code",
      "source": [
        "#Permutation test for AUROC metric (see utils.py for the function definition)\n",
        "from utils import permutation_metric\n",
        "\n",
        "auroc_, pval = permutation_metric(results_xgb[\"outcome\"],\n",
        "                                  results_xgb.prediction,\n",
        "                                  roc_auc_score,\n",
        "                                  side='right',\n",
        "                                  n=5000)"
      ],
      "metadata": {
        "id": "AsYuKLqzFCMN"
      },
      "execution_count": null,
      "outputs": []
    },
    {
      "cell_type": "code",
      "source": [
        "#Permutation test for AUROC metric (see utils.py for the function definition)\n",
        "\n",
        "auroc_, pval = permutation_metric(results_xgb[\"outcome\"],\n",
        "                                  results_longformer.prediction,\n",
        "                                  roc_auc_score,\n",
        "                                  side='right',\n",
        "                                  n=5000)"
      ],
      "metadata": {
        "id": "jGfT03eKFFh1"
      },
      "execution_count": null,
      "outputs": []
    },
    {
      "cell_type": "code",
      "source": [
        "import matplotlib.pyplot as plt\n",
        "import numpy as np\n",
        "from sklearn.metrics import roc_curve, roc_auc_score\n",
        "\n",
        "# Compute the ROC curve and AUC for Logistic Regression\n",
        "fpr_xgb, tpr_xgb, _ = roc_curve(results_xgb[\"outcome\"], results_xgb.prediction)\n",
        "auc_xgb = round(roc_auc_score(results_xgb[\"outcome\"], results_xgb.prediction), 2)\n",
        "\n",
        "# Compute the ROC curve and AUC for SVM\n",
        "fpr_lf, tpr_lf, _ = roc_curve(results_xgb[\"outcome\"], results_longformer.prediction)\n",
        "auc_lf = round(roc_auc_score(results_xgb[\"outcome\"], results_longformer.prediction), 2)\n",
        "\n",
        "# Plotting both ROC curves\n",
        "plt.figure(figsize=(10, 8))\n",
        "plt.plot(fpr_xgb, tpr_xgb, color='darkorange', lw=1, label=f'XGB (AUC = 0.67)')\n",
        "plt.plot(fpr_lf, tpr_lf, color='blue', lw=1, linestyle='--', label=f'Longformer (AUC = 0.67)')\n",
        "plt.plot([0, 1], [0, 1], color='gray', lw=1, linestyle='--')\n",
        "\n",
        "# Fill the area under the curve\n",
        "plt.fill_between(fpr_xgb, tpr_xgb, alpha=0.2, color='darkorange')\n",
        "plt.fill_between(fpr_lf, tpr_lf, alpha=0.2, color='blue')\n",
        "\n",
        "# Remove the coordinate system\n",
        "plt.gca().spines['top'].set_visible(False)\n",
        "plt.gca().spines['right'].set_visible(False)\n",
        "plt.gca().spines['left'].set_visible(False)\n",
        "plt.gca().spines['bottom'].set_visible(False)\n",
        "plt.gca().tick_params(left=False, bottom=False)\n",
        "plt.gca().xaxis.set_ticks_position('none')\n",
        "plt.gca().yaxis.set_ticks_position('none')\n",
        "\n",
        "# Customize the plot\n",
        "plt.xlim([0.0, 1.0])\n",
        "plt.ylim([0.0, 1.05])\n",
        "plt.xlabel('False Positive Rate', fontsize=14)\n",
        "plt.ylabel('True Positive Rate', fontsize=14)\n",
        "plt.title('Receiver Operating Characteristic (ROC) Curve', fontsize=16)\n",
        "plt.legend(loc=\"lower right\", fontsize=12)\n",
        "plt.xticks(fontsize=12)\n",
        "plt.yticks(fontsize=12)\n",
        "\n",
        "\n",
        "\n",
        "plt.show()"
      ],
      "metadata": {
        "id": "LAjwe4q3Fgcl"
      },
      "execution_count": null,
      "outputs": []
    },
    {
      "cell_type": "code",
      "source": [
        "from utils import delong_roc_test\n",
        "\n",
        "delong_roc_test(results_xgb[\"outcome\"], results_xgb.prediction, results_longformer.prediction)"
      ],
      "metadata": {
        "id": "zn__ittOFCTN"
      },
      "execution_count": null,
      "outputs": []
    }
  ]
}