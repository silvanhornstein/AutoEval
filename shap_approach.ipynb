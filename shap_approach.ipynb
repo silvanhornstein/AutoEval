{
  "nbformat": 4,
  "nbformat_minor": 0,
  "metadata": {
    "colab": {
      "provenance": []
    },
    "kernelspec": {
      "name": "python3",
      "display_name": "Python 3"
    },
    "language_info": {
      "name": "python"
    }
  },
  "cells": [
    {
      "cell_type": "code",
      "source": [
        "import shap\n",
        "import pandas as pd\n",
        "\n",
        "import sklearn\n",
        "from sklearn.feature_extraction.text import TfidfVectorizer\n",
        "\n",
        "from xgboost import XGBClassifier\n",
        "from imblearn.under_sampling import RandomUnderSampler\n",
        "from imblearn.over_sampling import RandomOverSampler, SMOTE\n",
        "\n",
        "from imblearn.combine import SMOTEENN, SMOTETomek\n",
        "from imblearn.pipeline import Pipeline\n",
        "from sklearn.compose import ColumnTransformer\n",
        "\n",
        "vectorizerchatter = TfidfVectorizer(max_df=0.9, min_df=10, use_idf=True)\n",
        "vectorizercouns = TfidfVectorizer(max_df=0.3, min_df=5, use_idf=True)\n",
        "\n",
        "X_trainchat = vectorizerchatter.fit_transform(train[\"body_chat\"])\n",
        "X_trainchatdata = pd.DataFrame(X_trainchat.toarray())\n",
        "X_trainchatdata.columns = vectorizerchatter.get_feature_names_out()\n",
        "X_trainchatdata = X_trainchatdata.add_suffix(\"_chat\")\n",
        "\n",
        "X_traincouns = vectorizercouns.fit_transform(train[\"body_couns\"])\n",
        "X_traincounsdata = pd.DataFrame(X_traincouns.toarray())\n",
        "X_traincounsdata.columns = vectorizercouns.get_feature_names_out()\n",
        "X_traincounsdata = X_traincounsdata.add_suffix(\"_couns\")\n",
        "\n",
        "X_train = pd.concat([X_trainchatdata,\n",
        "                     X_traincounsdata],\n",
        "                     axis=1)"
      ],
      "metadata": {
        "id": "INtkyIgGCMgv"
      },
      "execution_count": null,
      "outputs": []
    },
    {
      "cell_type": "code",
      "source": [
        "#Train the classifier on the training data\n",
        "\n",
        "classi = XGBClassifier(colsample_bytree=0.2, eta=0.05, gamma=5.0, max_depth=12,\n",
        "                                 min_child_weight=10, scale_pos_weight=0.5, subsample=0.8)\n",
        "\n",
        "X_train_resampled, y_train_resampled = RandomOverSampler().fit_resample(X_train, train[\"outcome\"])\n",
        "\n",
        "\n",
        "classi.fit(X_train_resampled, y_train_resampled)\n"
      ],
      "metadata": {
        "id": "EzLo5NnzCR4u"
      },
      "execution_count": null,
      "outputs": []
    },
    {
      "cell_type": "code",
      "source": [
        "#Prepare the test dataset\n",
        "\n",
        "X_testchat = vectorizerchatter.transform(test[\"body_chat\"])\n",
        "X_testcouns = vectorizercouns.transform(test[\"body_couns\"])\n",
        "\n",
        "X_testchatdata = pd.DataFrame(X_testchat.toarray())\n",
        "X_testchatdata.columns = vectorizerchatter.get_feature_names_out()\n",
        "\n",
        "X_testcounsdata = pd.DataFrame(X_testcouns.toarray())\n",
        "X_testcounsdata.columns = vectorizercouns.get_feature_names_out()\n",
        "\n",
        "X_testchatdata = X_testchatdata.add_suffix(\"_chat\")\n",
        "X_testcounsdata = X_testcounsdata.add_suffix(\"_couns\")\n",
        "\n",
        "X_test = pd.concat([X_testchatdata,X_testcounsdata],axis=1)"
      ],
      "metadata": {
        "id": "wXMGe02cCYD3"
      },
      "execution_count": null,
      "outputs": []
    },
    {
      "cell_type": "code",
      "source": [
        "# Dictionary to rename columns\n",
        "new_column_names = {\n",
        "    'nein_chat': 'No (Chatter)',\n",
        "    'mal_chat' : 'Once (Chatter)',\n",
        "    'gerne_chat': 'Gladly (Chatter)',\n",
        "    'anfangen_chat': 'Start (Chatter)',\n",
        "    'dank_chat': 'Thanks (Chatter)',\n",
        "    'toll_chat': 'Great (Chatter)',\n",
        "    'schlimm_couns': 'Bad (Counselor)',\n",
        "    'freundin_chat': 'Friend (Chatter)',\n",
        "    'fragen_chat': 'Ask (Chatter)',\n",
        "    'eher_couns': 'More (Counselor)',\n",
        "    'daher_couns': 'Therefore (Counselor)',\n",
        "    'danken_chat': 'Thank (Chatter)',\n",
        "    'bissch_chat': 'A bit (Chatter)',\n",
        "    'trotzdem_chat': 'Nevertheless (Chatter)',\n",
        "    'anliegen_couns': 'Issue (Counselor)',\n",
        "    'fragen_chat': 'Question (Chatter)',\n",
        "    'versuchen_chat': 'Try (Chatter)',\n",
        "    'ermutigen_couns': 'Encourage (Counselor)',\n",
        "    'weiterhin_couns': 'Further One (Counselor)',\n",
        "    'leider_chat': 'Unfortunetaly (Chatter)',\n",
        "    '17_chat' : \"17 (Chatter)\"}\n",
        "\n",
        "# Renaming columns\n",
        "X_test.rename(columns=new_column_names, inplace=True)\n"
      ],
      "metadata": {
        "id": "t9WRoxyGCZ0n"
      },
      "execution_count": null,
      "outputs": []
    },
    {
      "cell_type": "code",
      "source": [
        "#Run shap explainer on the test dataset\n",
        "\n",
        "explainer = shap.TreeExplainer(classi)\n",
        "shap_values = explainer.shap_values(X_test)\n",
        "shap_data = pd.DataFrame(shap_values,\n",
        "                         columns=X_test.columns)"
      ],
      "metadata": {
        "id": "ClNDYHgUCaOK"
      },
      "execution_count": null,
      "outputs": []
    },
    {
      "cell_type": "code",
      "source": [
        "shap.summary_plot(shap_values,\n",
        "                  X_test, max_display = 20)"
      ],
      "metadata": {
        "id": "b7QW14xTCdtn"
      },
      "execution_count": null,
      "outputs": []
    }
  ]
}