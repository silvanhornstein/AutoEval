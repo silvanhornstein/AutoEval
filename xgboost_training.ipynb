{
  "nbformat": 4,
  "nbformat_minor": 0,
  "metadata": {
    "colab": {
      "provenance": []
    },
    "kernelspec": {
      "name": "python3",
      "display_name": "Python 3"
    },
    "language_info": {
      "name": "python"
    }
  },
  "cells": [
    {
      "cell_type": "code",
      "execution_count": null,
      "metadata": {
        "id": "5iI3UMc--DCz"
      },
      "outputs": [],
      "source": [
        "#Training Pipeline for the TFIDF /XGBOOST Approach\n",
        "\n",
        "from sklearn.model_selection import cross_val_score, RepeatedStratifiedKFold\n",
        "import sklearn\n",
        "from sklearn.feature_extraction.text import TfidfVectorizer\n",
        "from skopt import BayesSearchCV\n",
        "\n",
        "from xgboost import XGBClassifier\n",
        "from imblearn.under_sampling import RandomUnderSampler\n",
        "from imblearn.over_sampling import RandomOverSampler, SMOTE\n",
        "\n",
        "from imblearn.pipeline import Pipeline\n",
        "from sklearn.compose import ColumnTransformer\n",
        "\n",
        "column_transformer = ColumnTransformer([('tfidf1', TfidfVectorizer(), 'body_chat'),\n",
        "                                        ('tfidf2', TfidfVectorizer(), 'body_couns')],\n",
        "                                        remainder=\"passthrough\")\n",
        "\n",
        "pipe = Pipeline([\n",
        "    ('transf', column_transformer),\n",
        "    ('sampling', None),\n",
        "   ('classifier', XGBClassifier()),\n",
        "])\n",
        "\n",
        "# Define the parameters for grid search\n",
        "param_grid = {'transf__tfidf1__min_df': [1, 2, 5, 10, 25, 50, 75, 100, 150, 200],\n",
        "              'transf__tfidf1__max_df': [x/100 for x in range(20, 101, 10)],\n",
        "              'transf__tfidf1__use_idf': [True, False],\n",
        "              # Same parameter grid for the second tf-idf vectorizer\n",
        "              'transf__tfidf2__min_df': [1, 2, 5, 10, 25, 50, 75, 100, 150, 200],\n",
        "              'transf__tfidf2__max_df': [x/100 for x in range(20, 101, 10)],\n",
        "              'transf__tfidf2__use_idf': [True, False],\n",
        "              #Different Sampling Methods\n",
        "              'sampling': [RandomOverSampler(), RandomUnderSampler(), None, SMOTE()],  # Oversampling, Undersampling, or None\n",
        "              # model parameters\n",
        "              'classifier__min_child_weight': [1, 5, 10, 20],\n",
        "              'classifier__gamma': [0, 0.25, 0.5, 1, 1.5, 2, 5, 10],\n",
        "              'classifier__subsample': [0.2, 0.4, 0.6, 0.7, 0.8, 0.9, 1.0],\n",
        "              'classifier__colsample_bytree': [0.2, 0.4, 0.6, 0.7, 0.8, 0.9, 1.0],\n",
        "              'classifier__max_depth': [2, 4, 6, 8, 10, 12, 14, 16],\n",
        "              'classifier__eta': [0.005, 0.01, 0.05, 0.1, 0.2],\n",
        "              'classifier__scale_pos_weight' : [0.001, 0.01, 0.1, 0.2, 0.5, 0.8, 1, 5, 10, 100, 1000]\n",
        "              }\n",
        "\n",
        "rkf = RepeatedStratifiedKFold(n_splits=5, n_repeats=5, random_state = 123)"
      ]
    },
    {
      "cell_type": "code",
      "source": [
        "\n",
        "grid_search = BayesSearchCV(estimator=pipe,\n",
        "                            search_spaces=param_grid,\n",
        "                            scoring='roc_auc_score',\n",
        "                            cv=rkf,\n",
        "                            n_jobs=-1,\n",
        "                            n_iter=250,\n",
        "                            verbose=2)\n",
        "\n",
        "grid_search.fit(train[[\"body_couns\", \"body_chat\"]],\n",
        "                train[\"outcome\"])"
      ],
      "metadata": {
        "id": "Q1_7cwlb-TFn"
      },
      "execution_count": null,
      "outputs": []
    }
  ]
}